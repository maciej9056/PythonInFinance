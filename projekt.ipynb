import numpy as np
import matplotlib.pyplot as plt

class StochasticInterestRateModel:

    """
    A class to simulate and calibrate a stochastic interest rate model using the Euler-Maruyama method.
    
    Attributes:
        mu (float): Drift parameter of the interest rate model.
        sigma (float): Volatility parameter of the interest rate model.
        initial_rate (float): Initial interest rate.
    """

    def __init__(self, mu, sigma, initial_rate):

        """
        Initializes the StochasticInterestRateModel with given parameters.
        
        Args:
            mu (float): Drift parameter of the interest rate model.
            sigma (float): Volatility parameter of the interest rate model.
            initial_rate (float): Initial interest rate.
        """

        self.mu = mu
        self.sigma = sigma
        self.initial_rate = initial_rate
    
    def euler_maruyama(self, n_simulations, n_steps, T):

        """
        Simulates interest rate paths using the Euler-Maruyama method.
        
        Args:
            n_simulations (int): Number of Monte Carlo simulations.
            n_steps (int): Number of time steps.
            T (float): Total time period.
        
        Returns:
            np.ndarray: Simulated interest rate paths.
        """

        dt = T / n_steps
        rates = np.zeros((n_simulations, n_steps + 1))
        rates[:, 0] = self.initial_rate
        
        for i in range(n_steps):
            dW = np.random.normal(0, np.sqrt(dt), size=n_simulations)
            rates[:, i + 1] = (1 + self.mu * dt + self.sigma * np.sqrt(dt) * dW) * rates[:, i]
        
        return rates
    
    def plot_paths(self, rates, T):
         
        """
        Plots the simulated interest rate paths.
        
        Args:
            rates (np.ndarray): Simulated interest rate paths.
            T (float): Total time period.
        """
         
        n_simulations = rates.shape[0]
        n_steps = rates.shape[1] - 1
        time_grid = np.linspace(0, T, n_steps + 1)
        
        plt.figure(figsize=(12, 6))
        for i in range(n_simulations):
            plt.plot(time_grid, rates[i, :], lw=0.8)
        plt.title('Simulated Interest Rate Paths')
        plt.xlabel('Time')
        plt.ylabel('Interest Rate')
        plt.grid(True)
        plt.show()
    
    def calibrate_to_data(self, historical_data):
        
        """
        Calibrates the model parameters (mu and sigma) to fit historical data.
        
        Args:
            historical_data (np.ndarray): Historical interest rate data.
        """

        log_returns = np.diff(np.log(historical_data))
        self.mu = np.mean(log_returns)
        self.sigma = np.std(log_returns)
        print(f'Calibrated mu: {self.mu}, Calibrated sigma: {self.sigma}')
